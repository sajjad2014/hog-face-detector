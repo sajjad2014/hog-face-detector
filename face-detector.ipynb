{
 "cells": [
  {
   "cell_type": "markdown",
   "id": "7dd79666",
   "metadata": {},
   "source": [
    "\n",
    "## Load Face and Non-Face Datasets\n",
    "\n",
    "- The datasets used:  \n",
    "    - Labelled Faces in the Wild: A dataset of face photographs mainly used for studying the unconstrained face recognition problem. This dataset will be used as the face dataset.\n",
    "    - Caltech-256: A dataset of objects in 257 categories. This dataset will be used as the non-face dataset.\n",
    "    \n",
    "- It is important to note that since some of the categories in the Caltech-256 dataset such as *205.superman*, *253.faces-easy-101*, etc contain faces, to improve the non-face dataset these faulty categories are removed from the non-face dataset.\n",
    "\n",
    "- Note that the images themselves aren't loaded, but rather the path to them is loaded to conserve the main memory usage during the runtime."
   ]
  },
  {
   "cell_type": "code",
   "execution_count": 1,
   "id": "607512b7",
   "metadata": {},
   "outputs": [],
   "source": [
    "import os\n",
    "import cv2\n",
    "import numpy as np\n",
    "import sklearn\n",
    "\n",
    "def load_loc(path, remove_labels = []):\n",
    "    labels = os.listdir(path)\n",
    "    path_data = []\n",
    "    for label in labels:\n",
    "        os.listdir(path + label)\n",
    "        if label in remove_labels:\n",
    "            continue;\n",
    "        for im_name in os.listdir(path + label):\n",
    "            if \".jpg\" in im_name:\n",
    "                path_data.append(path + label + \"/\" + im_name)\n",
    "    return np.array(path_data)\n",
    "\n",
    "np.random.seed(0)\n",
    "data_loc_pos = load_loc(\"./data/lfw/\")\n",
    "data_loc_neg = load_loc(\"./data/256_ObjectCategories/\", [\"011.billiards\", \n",
    "                                                     \"022.buddha-101\", \n",
    "                                                     \"032.cartman\",\n",
    "                                                    \"119.jesus-christ\",\n",
    "                                                    \"159.people\",\n",
    "                                                    \"232.t-shirt\",\n",
    "                                                    \"205.superman\",\n",
    "                                                   \"253.faces-easy-101\"])\n",
    "np.random.shuffle(data_loc_neg)"
   ]
  },
  {
   "cell_type": "markdown",
   "id": "c41d2088",
   "metadata": {},
   "source": [
    "## Train, Test, and Validation Split\n",
    "\n",
    "Each dataset is split into train, validation, and test datasets, where the size of each of the validation and test datasets is 1000, and the size of the training dataset is 10000. The final train, validation, and test dataset is the result of the concatenation of positive (face) and negative (non-face) samples in their respective datasets."
   ]
  },
  {
   "cell_type": "code",
   "execution_count": 2,
   "id": "2a66acad",
   "metadata": {},
   "outputs": [],
   "source": [
    "def get_train_val_test(data):\n",
    "    test_index= np.random.choice(len(data), 1000, replace= False)\n",
    "    test = data[test_index]\n",
    "    data = np.delete(data, test_index)\n",
    "    val_index= np.random.choice(len(data), 1000, replace= False)\n",
    "    val = data[val_index]\n",
    "    data = np.delete(data, val_index)\n",
    "    train_index= np.random.choice(len(data), 10000, replace= False)\n",
    "    train = data[train_index]\n",
    "    return train, val, test\n",
    "\n",
    "train_loc_pos, val_loc_pos, test_loc_pos = get_train_val_test(data_loc_pos)\n",
    "train_loc_neg, val_loc_neg, test_loc_neg = get_train_val_test(data_loc_neg)\n",
    "\n",
    "train_loc_x = np.concatenate((train_loc_pos, train_loc_neg))\n",
    "train_y = np.concatenate((np.ones(10000), np.ones(10000) * -1))\n",
    "val_loc_x = np.concatenate((val_loc_pos, val_loc_neg))\n",
    "val_y = np.concatenate((np.ones(1000), np.ones(1000) * -1))\n",
    "test_loc_x = np.concatenate((test_loc_pos, test_loc_neg))\n",
    "test_y = np.concatenate((np.ones(1000), np.ones(1000) * -1))"
   ]
  },
  {
   "cell_type": "markdown",
   "id": "06f5c413",
   "metadata": {},
   "source": [
    "## Get Feature Vectors\n",
    "\n",
    "To extract feature vectors for each input image, a **HOG descriptor** is used. These feature vectors are then used to train a **SVM**."
   ]
  },
  {
   "cell_type": "code",
   "execution_count": 3,
   "id": "d4e3e40d",
   "metadata": {},
   "outputs": [],
   "source": [
    "def get_feature(data_loc, hog):\n",
    "    features = []\n",
    "    for data in data_loc:\n",
    "        im = cv2.resize(cv2.imread(data, -1), hog.winSize)\n",
    "        features.append(hog.compute(im))\n",
    "    features = np.array(features)\n",
    "    return features.reshape(features.shape[:2])"
   ]
  },
  {
   "cell_type": "markdown",
   "id": "cf3efa73",
   "metadata": {},
   "source": [
    "## Obtain the Best Parameters\n",
    "\n",
    "To evaluate different model parameters and obtain the best possible ones, train and validation sets are used. For each set of parameters, the model is first trained on the training set and then evaluated on the validation set. The best performing parameters on the validation set are used as the parameters for the final model.\n",
    "\n",
    "This validation process is used to determine the best parameters for the **HOG descriptor** and **SVM classifier**."
   ]
  },
  {
   "cell_type": "markdown",
   "id": "abfd980b",
   "metadata": {},
   "source": [
    "### Validation on HOG descriptor\n",
    "\n",
    "- Three hyperparameters are chosen for the HOG descriptor, using the following possible values:\n",
    "    - window size : (64, 64) and (128, 128)\n",
    "    - block size : (16, 16) and (32, 32)\n",
    "    - cell size : (8, 8) and (16, 16)\n",
    "    \n",
    "- The SVM classifier's hyperparameters are set to the following values:\n",
    "    - c : 1\n",
    "    - kernel : rbf"
   ]
  },
  {
   "cell_type": "code",
   "execution_count": 4,
   "id": "cd7ff5db",
   "metadata": {},
   "outputs": [
    {
     "name": "stdout",
     "output_type": "stream",
     "text": [
      "window size: 64 block size: 16 cell size: 8\n",
      "99.65\n",
      "window size: 64 block size: 16 cell size: 16\n",
      "96.55\n",
      "window size: 64 block size: 32 cell size: 8\n",
      "99.65\n",
      "window size: 64 block size: 32 cell size: 16\n",
      "99.35000000000001\n",
      "window size: 128 block size: 16 cell size: 8\n",
      "99.8\n",
      "window size: 128 block size: 16 cell size: 16\n",
      "98.8\n",
      "window size: 128 block size: 32 cell size: 8\n",
      "99.85000000000001\n",
      "window size: 128 block size: 32 cell size: 16\n",
      "99.7\n",
      "Best Setting:\n",
      "window size: 128 block size: 32 cell size: 8\n",
      "99.85000000000001\n"
     ]
    }
   ],
   "source": [
    "from sklearn.svm import SVC\n",
    "\n",
    "def print_setting_svm(setting):\n",
    "    print(\"window size: \" + str(setting[0]) + \n",
    "          \" block size: \" + str(setting[1]) + \n",
    "         \" cell size: \" + str(setting[2]))\n",
    "\n",
    "def accuracy(pred_y, true_y):\n",
    "    return np.sum(pred_y == true_y) / len(true_y) * 100\n",
    "\n",
    "def val_HOG(train_loc_x, train_y, test_loc_x, test_y, wss = [128], bss = [16], \n",
    "            css = [8], cs = [0], kernels=[\"rbf\"]):\n",
    "    best_accuracy = 0\n",
    "    best_setting = [0, 0, 0]\n",
    "    best_pred = None\n",
    "    for ws in wss:\n",
    "        win_size = (ws,ws)\n",
    "        for bs in bss:\n",
    "            block_size = (bs, bs)\n",
    "            for cell in css:\n",
    "                block_stride = (cell, cell)\n",
    "                cell_size = (cell, cell)\n",
    "                hog = cv2.HOGDescriptor(win_size, block_size, block_stride, cell_size, 9)\n",
    "                train_x = get_feature(train_loc_x, hog)\n",
    "                test_x = get_feature(test_loc_x, hog)\n",
    "                for c in cs:\n",
    "                    c = 10 ** c\n",
    "                    for kernel in kernels:\n",
    "                        SVM = SVC(C=c, kernel=kernel)\n",
    "                        SVM.fit(train_x, train_y)\n",
    "                        pred_y = SVM.predict(test_x)\n",
    "                        if accuracy(pred_y, test_y) > best_accuracy:\n",
    "                            best_accuracy = accuracy(pred_y, test_y)\n",
    "                            best_setting = [ws, bs, cell]\n",
    "                            best_pred = pred_y\n",
    "                        print_setting_svm([ws, bs, cell])\n",
    "                        print(accuracy(pred_y, test_y))\n",
    "    print(\"Best Setting:\")\n",
    "    print_setting_svm(best_setting)\n",
    "    print(best_accuracy)\n",
    "    return best_pred\n",
    "\n",
    "best_pred = val_HOG(train_loc_x, train_y, val_loc_x, val_y, wss=[64, 128], bss=[16, 32], css=[8, 16])"
   ]
  },
  {
   "cell_type": "markdown",
   "id": "2a7c7e0d",
   "metadata": {},
   "source": [
    "### Validation on SVM classifier\n",
    "\n",
    "- Three hyperparameters are chosen for the SVM classifier, with the following possible values:\n",
    "    - c : 0.1, 1 and 10 \n",
    "    - kernel : linear, rbf, and poly \n",
    "        - linear kernel's degree : 1\n",
    "        - poly kernel's degree : 3 and 5\n",
    "        - rbf kernel's gamma : scale and auto\n",
    "    \n",
    "- The HOG descriptor's hyperparameters are set to the following values:\n",
    "    - window size : (128, 128)\n",
    "    - block size : (16, 16)\n",
    "    - cell size : (8, 8)"
   ]
  },
  {
   "cell_type": "code",
   "execution_count": 5,
   "id": "a3081351",
   "metadata": {
    "scrolled": false
   },
   "outputs": [
    {
     "name": "stdout",
     "output_type": "stream",
     "text": [
      "c: 0.1 kernel: linear kernel setting: -1\n",
      "99.7\n",
      "c: 0.1 kernel: rbf kernel setting: scale\n",
      "99.5\n",
      "c: 0.1 kernel: rbf kernel setting: auto\n",
      "98.05\n",
      "c: 0.1 kernel: poly kernel setting: 3\n",
      "99.85000000000001\n",
      "c: 0.1 kernel: poly kernel setting: 5\n",
      "99.8\n",
      "c: 1 kernel: linear kernel setting: -1\n",
      "99.7\n",
      "c: 1 kernel: rbf kernel setting: scale\n",
      "99.8\n",
      "c: 1 kernel: rbf kernel setting: auto\n",
      "99.2\n",
      "c: 1 kernel: poly kernel setting: 3\n",
      "99.85000000000001\n",
      "c: 1 kernel: poly kernel setting: 5\n",
      "99.8\n",
      "c: 10 kernel: linear kernel setting: -1\n",
      "99.7\n",
      "c: 10 kernel: rbf kernel setting: scale\n",
      "99.85000000000001\n",
      "c: 10 kernel: rbf kernel setting: auto\n",
      "99.55000000000001\n",
      "c: 10 kernel: poly kernel setting: 3\n",
      "99.85000000000001\n",
      "c: 10 kernel: poly kernel setting: 5\n",
      "99.8\n",
      "Best Setting:\n",
      "c: 0.1 kernel: poly kernel setting: 3\n",
      "99.85000000000001\n"
     ]
    }
   ],
   "source": [
    "from sklearn.svm import SVC\n",
    "\n",
    "def print_setting_svm(setting):\n",
    "    print(\"c: \" + str(setting[0]) + \n",
    "          \" kernel: \" + str(setting[1]) +\n",
    "          \" kernel setting: \" + str(setting[2]))\n",
    "\n",
    "def accuracy(pred_y, true_y):\n",
    "    return np.sum(pred_y == true_y) / len(true_y) * 100\n",
    "\n",
    "def val_SVM(train_loc_x, train_y, test_loc_x, test_y, wss = [128], bss = [16], \n",
    "            css = [8], cs = [0], kernels=[\"rbf\"], ker_settings = [\"scale\"]):\n",
    "    best_accuracy = 0\n",
    "    best_setting = [0, 0, 0]\n",
    "    best_pred = None\n",
    "    for ws in wss:\n",
    "        win_size = (ws,ws)\n",
    "        for bs in bss:\n",
    "            block_size = (bs, bs)\n",
    "            for cell in css:\n",
    "                block_stride = (cell, cell)\n",
    "                cell_size = (cell, cell)\n",
    "                hog = cv2.HOGDescriptor(win_size, block_size, block_stride, cell_size, 9)\n",
    "                train_x = get_feature(train_loc_x, hog)\n",
    "                test_x = get_feature(test_loc_x, hog)\n",
    "                for c in cs:\n",
    "                    c = 10 ** c\n",
    "                    for kernel in kernels:\n",
    "                        if kernel == \"linear\":\n",
    "                            ker_set = ker_settings[0]\n",
    "                        elif kernel == \"rbf\":\n",
    "                            ker_set = ker_settings[1]\n",
    "                        else:\n",
    "                            ker_set = ker_settings[2]\n",
    "                        for setting in ker_set:\n",
    "                            if kernel == \"linear\":\n",
    "                                SVM = SVC(C=c, kernel=kernel)\n",
    "                            elif kernel == \"rbf\":\n",
    "                                SVM = SVC(C=c, kernel=kernel, gamma = setting)\n",
    "                            else:\n",
    "                                SVM = SVC(C=c, kernel=kernel, degree = setting)\n",
    "                            SVM.fit(train_x, train_y)\n",
    "                            pred_y = SVM.predict(test_x)\n",
    "                            if accuracy(pred_y, test_y) > best_accuracy:\n",
    "                                best_accuracy = accuracy(pred_y, test_y)\n",
    "                                best_setting = [c, kernel, setting]\n",
    "                                best_pred = pred_y\n",
    "                            print_setting_svm([c, kernel, setting])\n",
    "                            print(accuracy(pred_y, test_y))\n",
    "    print(\"Best Setting:\")\n",
    "    print_setting_svm(best_setting)\n",
    "    print(best_accuracy)\n",
    "    return best_pred\n",
    "best_pred = val_SVM(train_loc_x, train_y, val_loc_x, val_y, cs= [-1, 0, 1], \n",
    "                    kernels=  [\"linear\", \"rbf\", \"poly\"],\n",
    "                   ker_settings = [[-1], ['scale', 'auto'], [3, 5]])"
   ]
  },
  {
   "cell_type": "markdown",
   "id": "b93cef87",
   "metadata": {},
   "source": [
    "### Evaluate the Best Hyperparameters on the Testset\n",
    "\n",
    "From the previous experiments, it can be concluded that there are several sets of hyperparameters that have the best validation accuracy. The following set of hyperparameters are chosen as the final parameters for the HOG descriptor, and SVM classifier:\n",
    "\n",
    "- The HOG descriptor's hyperparameters:\n",
    "    - window size : (128, 128)\n",
    "    - block size : (16, 16)\n",
    "    - cell size : (8, 8)\n",
    "    \n",
    "- Three SVM classifier's hyperparameters:\n",
    "    - c : 1\n",
    "    - kernel : poly \n",
    "        - poly kernel's degree : 3\n",
    "\n",
    "Note that any other set of hyperparameters that had the maximum validation accuracy could also have been chosen."
   ]
  },
  {
   "cell_type": "code",
   "execution_count": 6,
   "id": "b8c0565a",
   "metadata": {},
   "outputs": [
    {
     "name": "stdout",
     "output_type": "stream",
     "text": [
      "Validation Accuracy : 99.85000000000001\n",
      "Test Accuracy : 99.8\n"
     ]
    }
   ],
   "source": [
    "from sklearn.svm import SVC\n",
    "\n",
    "def accuracy(pred_y, true_y):\n",
    "    return np.sum(pred_y == true_y) / len(true_y) * 100\n",
    "\n",
    "ws, bs, cell, c, kernel, degree = 128, 16, 8, 1, \"poly\", 3\n",
    "win_size = (ws,ws)\n",
    "block_size = (bs, bs)\n",
    "block_stride = (cell, cell)\n",
    "cell_size = (cell, cell)\n",
    "\n",
    "hog = cv2.HOGDescriptor(win_size, block_size, block_stride, cell_size, 9)\n",
    "\n",
    "train_x = get_feature(train_loc_x, hog)\n",
    "val_x = get_feature(val_loc_x, hog)\n",
    "test_x = get_feature(test_loc_x, hog)\n",
    "\n",
    "SVM = SVC(C=c, kernel=kernel, degree= degree, probability=True)\n",
    "SVM.fit(train_x, train_y)\n",
    "\n",
    "pred_y = SVM.predict(val_x)\n",
    "print(f\"Validation Accuracy : {accuracy(pred_y, val_y)}\")\n",
    "\n",
    "pred_y = SVM.predict(test_x)\n",
    "print(f\"Test Accuracy : {accuracy(pred_y, test_y)}\")"
   ]
  },
  {
   "cell_type": "markdown",
   "id": "0a6ee18b",
   "metadata": {},
   "source": [
    "### Other Evaluation Metrics\n",
    "\n",
    "Other evaluation metrics such as **ROC curve**, **Average Precision**, and **Precision-Recall Curve** are also used to further evaluate the model. "
   ]
  },
  {
   "cell_type": "code",
   "execution_count": 7,
   "id": "e2477ef1",
   "metadata": {},
   "outputs": [
    {
     "data": {
      "image/png": "[encoded data removed]",
      "text/plain": [
       "<Figure size 432x288 with 1 Axes>"
      ]
     },
     "metadata": {
      "needs_background": "light"
     },
     "output_type": "display_data"
    }
   ],
   "source": [
    "from sklearn import metrics\n",
    "import matplotlib.pyplot as plt\n",
    "\n",
    "metrics.plot_roc_curve(SVM, test_x, test_y)  \n",
    "plt.savefig('out/roc_curve.jpg')"
   ]
  },
  {
   "cell_type": "code",
   "execution_count": 8,
   "id": "03368f97",
   "metadata": {},
   "outputs": [
    {
     "name": "stdout",
     "output_type": "stream",
     "text": [
      "Average Precision Score : 0.9999772082011692\n"
     ]
    }
   ],
   "source": [
    "from sklearn.metrics import average_precision_score\n",
    "\n",
    "score_test = SVM.decision_function(test_x)\n",
    "average_precision = average_precision_score(test_y, score_test)\n",
    "\n",
    "print(f\"Average Precision Score : {average_precision}\")"
   ]
  },
  {
   "cell_type": "code",
   "execution_count": 9,
   "id": "c721e8b8",
   "metadata": {},
   "outputs": [
    {
     "data": {
      "image/png": "[encoded data removed]",
      "text/plain": [
       "<Figure size 432x288 with 1 Axes>"
      ]
     },
     "metadata": {
      "needs_background": "light"
     },
     "output_type": "display_data"
    }
   ],
   "source": [
    "from sklearn.metrics import plot_precision_recall_curve\n",
    "\n",
    "disp = plot_precision_recall_curve(SVM, test_x, test_y)\n",
    "plt.savefig('out/precision_recall_curve.jpg')"
   ]
  },
  {
   "cell_type": "markdown",
   "id": "aa94873c",
   "metadata": {},
   "source": [
    "### Face Detector Function\n",
    "\n",
    "This function takes an image as the input, and based on its other hyperparameters, identifies the existing faces in that image and highlights them using bounding boxes.\n",
    "\n",
    "This function uses sliding windows on different scales of the original image to iterate through all the possible face locations in that image and then uses the previously obtained HOG descriptor and SVM classifier to determine whether a face exists in these locations or not. After this, a non-maximum suppression method is used to eliminate the extra boxes. Finally, all the detected face locations are highlighted using bounding boxes, and the function returns the input image with bounding boxes around the faces inside that image. \n",
    "\n",
    "This function is applyed to three pictures inside the `in` folder, and their results are written in the `out` folder."
   ]
  },
  {
   "cell_type": "code",
   "execution_count": 10,
   "id": "b9f90ccb",
   "metadata": {},
   "outputs": [],
   "source": [
    "def FaceDetector(im, score_thresh= 0.97, nms_thresh= 0.6,\n",
    "                 remove_inner= False, slack = 5, scale= 1.1, stride= 10, SVM= SVM, hog= hog):\n",
    "    win_size = hog.winSize[0]\n",
    "    h, w = im.shape[:2]\n",
    "    bboxes = []\n",
    "    probs = []\n",
    "    cur_im = im.copy()\n",
    "    cur_scale = 1\n",
    "    print(\"Start Image Processing:\")\n",
    "    print(\"Scales:\")\n",
    "    while(cur_im.shape[0] > win_size and cur_im.shape[1] > win_size):\n",
    "        print(cur_scale)\n",
    "        h, w = cur_im.shape[:2]\n",
    "        cur_im = cv2.copyMakeBorder(cur_im, win_size, win_size, win_size, win_size, cv2.BORDER_CONSTANT)\n",
    "        h1, w1 = cur_im.shape[:2]\n",
    "        for i in range(0, h1 - win_size, stride):\n",
    "            for j in range(0, w1 - win_size, stride):\n",
    "                fd = hog.compute(cur_im[i:i+win_size, j:j+win_size]).reshape(-1)\n",
    "                prob = SVM.predict_proba([fd])[0][1]\n",
    "                if prob > score_thresh:\n",
    "                    bboxes.append(np.array([(j - win_size, i - win_size, j, i)]) * cur_scale)\n",
    "                    probs.append(prob)\n",
    "        cur_scale = cur_scale * scale\n",
    "        cur_im = cv2.resize(im, (int(w/ scale), int(h/ scale)))\n",
    "        \n",
    "    bboxes = np.array(bboxes)\n",
    "    probs = np.array(probs)\n",
    "    s_box_id = cv2.dnn.NMSBoxes(bboxes, probs, score_thresh, nms_thresh)\n",
    "    s_boxs = bboxes[s_box_id.reshape(-1)].reshape(-1, 4)\n",
    "    s_probs = probs[s_box_id.reshape(-1)].reshape(-1)\n",
    "    if remove_inner:\n",
    "        rm_boxs = s_boxs.copy().reshape(-1, 4)\n",
    "        remove_indexs = []\n",
    "        for bigbox in rm_boxs:\n",
    "            x, y, x1, y1 = bigbox\n",
    "            for (i, smallbox) in enumerate(rm_boxs):\n",
    "                sx, sy, sx1, sy1 = smallbox\n",
    "                if (bigbox == smallbox).all():\n",
    "                    continue\n",
    "                if x - slack < sx and y - slack< sy and sx1 < x1 + slack and sy1 < y1 + slack:\n",
    "                    remove_indexs.append(i)\n",
    "        remove_indexs = np.unique(remove_indexs)\n",
    "        s_boxs = np.delete(s_boxs, remove_indexs, axis = 0)\n",
    "        s_probs = np.delete(s_probs, remove_indexs, axis = 0)\n",
    "        \n",
    "    res_im2 = im.copy()\n",
    "    for (i, box) in enumerate(s_boxs):\n",
    "        box = box.astype(int)\n",
    "        color = np.random.randint(0, 255, 3).tolist()\n",
    "        color = (color[0], color[1], color[2])\n",
    "        cv2.rectangle(res_im2, (box[0], box[1]), (box[2], box[3]), color, 3)\n",
    "        cv2.putText(res_im2, 'score:{:.3f}'.format(s_probs[i]), (box[0], box[1] - 10),\n",
    "                cv2.FONT_HERSHEY_SIMPLEX, 0.5, color, 2)\n",
    "    return res_im2"
   ]
  },
  {
   "cell_type": "code",
   "execution_count": 11,
   "id": "14846af6",
   "metadata": {},
   "outputs": [
    {
     "name": "stdout",
     "output_type": "stream",
     "text": [
      "Start Image Processing:\n",
      "Scales:\n",
      "1\n",
      "1.1\n",
      "1.2100000000000002\n",
      "1.3310000000000004\n",
      "1.4641000000000006\n",
      "1.6105100000000008\n",
      "1.771561000000001\n",
      "1.9487171000000014\n",
      "2.1435888100000016\n",
      "2.357947691000002\n",
      "2.5937424601000023\n",
      "2.853116706110003\n",
      "3.1384283767210035\n",
      "3.4522712143931042\n",
      "3.797498335832415\n",
      "4.177248169415656\n",
      "4.594972986357222\n",
      "5.054470284992944\n",
      "5.559917313492239\n"
     ]
    }
   ],
   "source": [
    "im = cv2.imread(\"in/Melli.jpg\", -1)\n",
    "melli = FaceDetector(im, 0.97, 0.6)\n",
    "cv2.imwrite(\"out/Melli.jpg\", melli);"
   ]
  },
  {
   "cell_type": "code",
   "execution_count": 12,
   "id": "805891c5",
   "metadata": {},
   "outputs": [
    {
     "name": "stdout",
     "output_type": "stream",
     "text": [
      "Start Image Processing:\n",
      "Scales:\n",
      "1\n",
      "1.1\n",
      "1.2100000000000002\n",
      "1.3310000000000004\n",
      "1.4641000000000006\n",
      "1.6105100000000008\n",
      "1.771561000000001\n",
      "1.9487171000000014\n",
      "2.1435888100000016\n",
      "2.357947691000002\n",
      "2.5937424601000023\n",
      "2.853116706110003\n",
      "3.1384283767210035\n",
      "3.4522712143931042\n",
      "3.797498335832415\n"
     ]
    }
   ],
   "source": [
    "im = cv2.imread(\"in/Persepolis.jpg\", -1)\n",
    "persepolis = FaceDetector(im, 0.97, 0.6)\n",
    "cv2.imwrite(\"out/Persepolis.jpg\", persepolis);"
   ]
  }
 ],
 "metadata": {
  "kernelspec": {
   "display_name": "Python 3",
   "language": "python",
   "name": "python3"
  },
  "language_info": {
   "codemirror_mode": {
    "name": "ipython",
    "version": 3
   },
   "file_extension": ".py",
   "mimetype": "text/x-python",
   "name": "python",
   "nbconvert_exporter": "python",
   "pygments_lexer": "ipython3",
   "version": "3.9.4"
  }
 },
 "nbformat": 4,
 "nbformat_minor": 5
}
